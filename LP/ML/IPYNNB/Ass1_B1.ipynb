{
 "cells": [
  {
   "cell_type": "code",
   "execution_count": 1,
   "id": "fbd20751",
   "metadata": {},
   "outputs": [],
   "source": [
    "#  Through the diagnosis test I predicted 100 report as COVID positive, but only 45 of those were \n",
    "# actually positive. Total 50 people in my sample were actually COVID positive. I have total 500 \n",
    "# samples.\n",
    "#  Create confusion matrix based on above data and find \n",
    "# I. Accuracy\n",
    "# II. Precision\n",
    "# III. Recall\n",
    "# IV. F-1 score\n"
   ]
  },
  {
   "cell_type": "code",
   "execution_count": 2,
   "id": "a4bb5ba2",
   "metadata": {},
   "outputs": [],
   "source": [
    "import numpy as np"
   ]
  },
  {
   "cell_type": "code",
   "execution_count": 3,
   "id": "7d1f31b6",
   "metadata": {},
   "outputs": [],
   "source": [
    "actual=list(np.ones(50))+list(np.zeros(450))"
   ]
  },
  {
   "cell_type": "code",
   "execution_count": 4,
   "id": "703f99ce",
   "metadata": {},
   "outputs": [],
   "source": [
    "predicted=list(np.zeros(5))+list(np.ones(100))+list(np.zeros(395))"
   ]
  },
  {
   "cell_type": "code",
   "execution_count": 5,
   "id": "b9b73720",
   "metadata": {},
   "outputs": [],
   "source": [
    "from sklearn.metrics import ConfusionMatrixDisplay"
   ]
  },
  {
   "cell_type": "code",
   "execution_count": 6,
   "id": "0dc61719",
   "metadata": {},
   "outputs": [
    {
     "data": {
      "text/plain": [
       "<sklearn.metrics._plot.confusion_matrix.ConfusionMatrixDisplay at 0x2416723de20>"
      ]
     },
     "execution_count": 6,
     "metadata": {},
     "output_type": "execute_result"
    },
    {
     "data": {
      "image/png": "[encoded data removed]",
      "text/plain": [
       "<Figure size 432x288 with 2 Axes>"
      ]
     },
     "metadata": {
      "needs_background": "light"
     },
     "output_type": "display_data"
    }
   ],
   "source": [
    "ConfusionMatrixDisplay.from_predictions(actual, predicted)"
   ]
  },
  {
   "cell_type": "code",
   "execution_count": 7,
   "id": "b76f8872",
   "metadata": {},
   "outputs": [],
   "source": [
    "from sklearn.metrics import classification_report"
   ]
  },
  {
   "cell_type": "code",
   "execution_count": 8,
   "id": "a3b7113f",
   "metadata": {},
   "outputs": [],
   "source": [
    "report=classification_report(predicted,actual)"
   ]
  },
  {
   "cell_type": "code",
   "execution_count": 9,
   "id": "3607564c",
   "metadata": {},
   "outputs": [
    {
     "name": "stdout",
     "output_type": "stream",
     "text": [
      "              precision    recall  f1-score   support\n",
      "\n",
      "         0.0       0.88      0.99      0.93       400\n",
      "         1.0       0.90      0.45      0.60       100\n",
      "\n",
      "    accuracy                           0.88       500\n",
      "   macro avg       0.89      0.72      0.76       500\n",
      "weighted avg       0.88      0.88      0.86       500\n",
      "\n"
     ]
    }
   ],
   "source": [
    "print(report)"
   ]
  },
  {
   "cell_type": "code",
   "execution_count": 10,
   "id": "0b6eefaf",
   "metadata": {},
   "outputs": [],
   "source": [
    "from sklearn.metrics import accuracy_score\n",
    "from sklearn.metrics import precision_score\n",
    "from sklearn.metrics import recall_score\n",
    "from sklearn.metrics import f1_score"
   ]
  },
  {
   "cell_type": "code",
   "execution_count": 11,
   "id": "25e698ff",
   "metadata": {},
   "outputs": [
    {
     "data": {
      "text/plain": [
       "0.45"
      ]
     },
     "execution_count": 11,
     "metadata": {},
     "output_type": "execute_result"
    }
   ],
   "source": [
    "precision_score(actual,predicted)"
   ]
  },
  {
   "cell_type": "code",
   "execution_count": 12,
   "id": "dd38d0c4",
   "metadata": {},
   "outputs": [
    {
     "data": {
      "text/plain": [
       "0.88"
      ]
     },
     "execution_count": 12,
     "metadata": {},
     "output_type": "execute_result"
    }
   ],
   "source": [
    "accuracy_score(actual,predicted)"
   ]
  },
  {
   "cell_type": "code",
   "execution_count": 13,
   "id": "df10bc87",
   "metadata": {},
   "outputs": [
    {
     "data": {
      "text/plain": [
       "0.9"
      ]
     },
     "execution_count": 13,
     "metadata": {},
     "output_type": "execute_result"
    }
   ],
   "source": [
    "recall_score(actual,predicted)"
   ]
  },
  {
   "cell_type": "code",
   "execution_count": 14,
   "id": "2f129357",
   "metadata": {},
   "outputs": [
    {
     "data": {
      "text/plain": [
       "0.6"
      ]
     },
     "execution_count": 14,
     "metadata": {},
     "output_type": "execute_result"
    }
   ],
   "source": [
    "f1_score(actual,predicted)"
   ]
  }
 ],
 "metadata": {
  "kernelspec": {
   "display_name": "Python 3 (ipykernel)",
   "language": "python",
   "name": "python3"
  },
  "language_info": {
   "codemirror_mode": {
    "name": "ipython",
    "version": 3
   },
   "file_extension": ".py",
   "mimetype": "text/x-python",
   "name": "python",
   "nbconvert_exporter": "python",
   "pygments_lexer": "ipython3",
   "version": "3.9.12"
  }
 },
 "nbformat": 4,
 "nbformat_minor": 5
}
