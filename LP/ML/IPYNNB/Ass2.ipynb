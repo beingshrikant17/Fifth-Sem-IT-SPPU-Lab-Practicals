{
 "cells": [
  {
   "cell_type": "code",
   "execution_count": 1,
   "id": "7ae13932",
   "metadata": {},
   "outputs": [],
   "source": [
    "# a. Apply Linear Regression using suitable library function and predict the Month-wise\n",
    "# temperature.\n",
    "# b. Assessthe performance of regression models using MSE, MAE and R-Square metrics\n",
    "# c. Visualize simple regression model\n"
   ]
  },
  {
   "cell_type": "code",
   "execution_count": 2,
   "id": "8727fbd2",
   "metadata": {},
   "outputs": [
    {
     "data": {
      "text/html": [
       "<div>\n",
       "<style scoped>\n",
       "    .dataframe tbody tr th:only-of-type {\n",
       "        vertical-align: middle;\n",
       "    }\n",
       "\n",
       "    .dataframe tbody tr th {\n",
       "        vertical-align: top;\n",
       "    }\n",
       "\n",
       "    .dataframe thead th {\n",
       "        text-align: right;\n",
       "    }\n",
       "</style>\n",
       "<table border=\"1\" class=\"dataframe\">\n",
       "  <thead>\n",
       "    <tr style=\"text-align: right;\">\n",
       "      <th></th>\n",
       "      <th>YEAR</th>\n",
       "      <th>JAN</th>\n",
       "      <th>FEB</th>\n",
       "      <th>MAR</th>\n",
       "      <th>APR</th>\n",
       "      <th>MAY</th>\n",
       "      <th>JUN</th>\n",
       "      <th>JUL</th>\n",
       "      <th>AUG</th>\n",
       "      <th>SEP</th>\n",
       "      <th>OCT</th>\n",
       "      <th>NOV</th>\n",
       "      <th>DEC</th>\n",
       "      <th>ANNUAL</th>\n",
       "      <th>JAN-FEB</th>\n",
       "      <th>MAR-MAY</th>\n",
       "      <th>JUN-SEP</th>\n",
       "      <th>OCT-DEC</th>\n",
       "    </tr>\n",
       "  </thead>\n",
       "  <tbody>\n",
       "    <tr>\n",
       "      <th>0</th>\n",
       "      <td>1901</td>\n",
       "      <td>22.40</td>\n",
       "      <td>24.14</td>\n",
       "      <td>29.07</td>\n",
       "      <td>31.91</td>\n",
       "      <td>33.41</td>\n",
       "      <td>33.18</td>\n",
       "      <td>31.21</td>\n",
       "      <td>30.39</td>\n",
       "      <td>30.47</td>\n",
       "      <td>29.97</td>\n",
       "      <td>27.31</td>\n",
       "      <td>24.49</td>\n",
       "      <td>28.96</td>\n",
       "      <td>23.27</td>\n",
       "      <td>31.46</td>\n",
       "      <td>31.27</td>\n",
       "      <td>27.25</td>\n",
       "    </tr>\n",
       "    <tr>\n",
       "      <th>1</th>\n",
       "      <td>1902</td>\n",
       "      <td>24.93</td>\n",
       "      <td>26.58</td>\n",
       "      <td>29.77</td>\n",
       "      <td>31.78</td>\n",
       "      <td>33.73</td>\n",
       "      <td>32.91</td>\n",
       "      <td>30.92</td>\n",
       "      <td>30.73</td>\n",
       "      <td>29.80</td>\n",
       "      <td>29.12</td>\n",
       "      <td>26.31</td>\n",
       "      <td>24.04</td>\n",
       "      <td>29.22</td>\n",
       "      <td>25.75</td>\n",
       "      <td>31.76</td>\n",
       "      <td>31.09</td>\n",
       "      <td>26.49</td>\n",
       "    </tr>\n",
       "    <tr>\n",
       "      <th>2</th>\n",
       "      <td>1903</td>\n",
       "      <td>23.44</td>\n",
       "      <td>25.03</td>\n",
       "      <td>27.83</td>\n",
       "      <td>31.39</td>\n",
       "      <td>32.91</td>\n",
       "      <td>33.00</td>\n",
       "      <td>31.34</td>\n",
       "      <td>29.98</td>\n",
       "      <td>29.85</td>\n",
       "      <td>29.04</td>\n",
       "      <td>26.08</td>\n",
       "      <td>23.65</td>\n",
       "      <td>28.47</td>\n",
       "      <td>24.24</td>\n",
       "      <td>30.71</td>\n",
       "      <td>30.92</td>\n",
       "      <td>26.26</td>\n",
       "    </tr>\n",
       "    <tr>\n",
       "      <th>3</th>\n",
       "      <td>1904</td>\n",
       "      <td>22.50</td>\n",
       "      <td>24.73</td>\n",
       "      <td>28.21</td>\n",
       "      <td>32.02</td>\n",
       "      <td>32.64</td>\n",
       "      <td>32.07</td>\n",
       "      <td>30.36</td>\n",
       "      <td>30.09</td>\n",
       "      <td>30.04</td>\n",
       "      <td>29.20</td>\n",
       "      <td>26.36</td>\n",
       "      <td>23.63</td>\n",
       "      <td>28.49</td>\n",
       "      <td>23.62</td>\n",
       "      <td>30.95</td>\n",
       "      <td>30.66</td>\n",
       "      <td>26.40</td>\n",
       "    </tr>\n",
       "    <tr>\n",
       "      <th>4</th>\n",
       "      <td>1905</td>\n",
       "      <td>22.00</td>\n",
       "      <td>22.83</td>\n",
       "      <td>26.68</td>\n",
       "      <td>30.01</td>\n",
       "      <td>33.32</td>\n",
       "      <td>33.25</td>\n",
       "      <td>31.44</td>\n",
       "      <td>30.68</td>\n",
       "      <td>30.12</td>\n",
       "      <td>30.67</td>\n",
       "      <td>27.52</td>\n",
       "      <td>23.82</td>\n",
       "      <td>28.30</td>\n",
       "      <td>22.25</td>\n",
       "      <td>30.00</td>\n",
       "      <td>31.33</td>\n",
       "      <td>26.57</td>\n",
       "    </tr>\n",
       "    <tr>\n",
       "      <th>...</th>\n",
       "      <td>...</td>\n",
       "      <td>...</td>\n",
       "      <td>...</td>\n",
       "      <td>...</td>\n",
       "      <td>...</td>\n",
       "      <td>...</td>\n",
       "      <td>...</td>\n",
       "      <td>...</td>\n",
       "      <td>...</td>\n",
       "      <td>...</td>\n",
       "      <td>...</td>\n",
       "      <td>...</td>\n",
       "      <td>...</td>\n",
       "      <td>...</td>\n",
       "      <td>...</td>\n",
       "      <td>...</td>\n",
       "      <td>...</td>\n",
       "      <td>...</td>\n",
       "    </tr>\n",
       "    <tr>\n",
       "      <th>112</th>\n",
       "      <td>2013</td>\n",
       "      <td>24.56</td>\n",
       "      <td>26.59</td>\n",
       "      <td>30.62</td>\n",
       "      <td>32.66</td>\n",
       "      <td>34.46</td>\n",
       "      <td>32.44</td>\n",
       "      <td>31.07</td>\n",
       "      <td>30.76</td>\n",
       "      <td>31.04</td>\n",
       "      <td>30.27</td>\n",
       "      <td>27.83</td>\n",
       "      <td>25.37</td>\n",
       "      <td>29.81</td>\n",
       "      <td>25.58</td>\n",
       "      <td>32.58</td>\n",
       "      <td>31.33</td>\n",
       "      <td>27.83</td>\n",
       "    </tr>\n",
       "    <tr>\n",
       "      <th>113</th>\n",
       "      <td>2014</td>\n",
       "      <td>23.83</td>\n",
       "      <td>25.97</td>\n",
       "      <td>28.95</td>\n",
       "      <td>32.74</td>\n",
       "      <td>33.77</td>\n",
       "      <td>34.15</td>\n",
       "      <td>31.85</td>\n",
       "      <td>31.32</td>\n",
       "      <td>30.68</td>\n",
       "      <td>30.29</td>\n",
       "      <td>28.05</td>\n",
       "      <td>25.08</td>\n",
       "      <td>29.72</td>\n",
       "      <td>24.90</td>\n",
       "      <td>31.82</td>\n",
       "      <td>32.00</td>\n",
       "      <td>27.81</td>\n",
       "    </tr>\n",
       "    <tr>\n",
       "      <th>114</th>\n",
       "      <td>2015</td>\n",
       "      <td>24.58</td>\n",
       "      <td>26.89</td>\n",
       "      <td>29.07</td>\n",
       "      <td>31.87</td>\n",
       "      <td>34.09</td>\n",
       "      <td>32.48</td>\n",
       "      <td>31.88</td>\n",
       "      <td>31.52</td>\n",
       "      <td>31.55</td>\n",
       "      <td>31.04</td>\n",
       "      <td>28.10</td>\n",
       "      <td>25.67</td>\n",
       "      <td>29.90</td>\n",
       "      <td>25.74</td>\n",
       "      <td>31.68</td>\n",
       "      <td>31.87</td>\n",
       "      <td>28.27</td>\n",
       "    </tr>\n",
       "    <tr>\n",
       "      <th>115</th>\n",
       "      <td>2016</td>\n",
       "      <td>26.94</td>\n",
       "      <td>29.72</td>\n",
       "      <td>32.62</td>\n",
       "      <td>35.38</td>\n",
       "      <td>35.72</td>\n",
       "      <td>34.03</td>\n",
       "      <td>31.64</td>\n",
       "      <td>31.79</td>\n",
       "      <td>31.66</td>\n",
       "      <td>31.98</td>\n",
       "      <td>30.11</td>\n",
       "      <td>28.01</td>\n",
       "      <td>31.63</td>\n",
       "      <td>28.33</td>\n",
       "      <td>34.57</td>\n",
       "      <td>32.28</td>\n",
       "      <td>30.03</td>\n",
       "    </tr>\n",
       "    <tr>\n",
       "      <th>116</th>\n",
       "      <td>2017</td>\n",
       "      <td>26.45</td>\n",
       "      <td>29.46</td>\n",
       "      <td>31.60</td>\n",
       "      <td>34.95</td>\n",
       "      <td>35.84</td>\n",
       "      <td>33.82</td>\n",
       "      <td>31.88</td>\n",
       "      <td>31.72</td>\n",
       "      <td>32.22</td>\n",
       "      <td>32.29</td>\n",
       "      <td>29.60</td>\n",
       "      <td>27.18</td>\n",
       "      <td>31.42</td>\n",
       "      <td>27.95</td>\n",
       "      <td>34.13</td>\n",
       "      <td>32.41</td>\n",
       "      <td>29.69</td>\n",
       "    </tr>\n",
       "  </tbody>\n",
       "</table>\n",
       "<p>117 rows × 18 columns</p>\n",
       "</div>"
      ],
      "text/plain": [
       "     YEAR    JAN    FEB    MAR    APR    MAY    JUN    JUL    AUG    SEP  \\\n",
       "0    1901  22.40  24.14  29.07  31.91  33.41  33.18  31.21  30.39  30.47   \n",
       "1    1902  24.93  26.58  29.77  31.78  33.73  32.91  30.92  30.73  29.80   \n",
       "2    1903  23.44  25.03  27.83  31.39  32.91  33.00  31.34  29.98  29.85   \n",
       "3    1904  22.50  24.73  28.21  32.02  32.64  32.07  30.36  30.09  30.04   \n",
       "4    1905  22.00  22.83  26.68  30.01  33.32  33.25  31.44  30.68  30.12   \n",
       "..    ...    ...    ...    ...    ...    ...    ...    ...    ...    ...   \n",
       "112  2013  24.56  26.59  30.62  32.66  34.46  32.44  31.07  30.76  31.04   \n",
       "113  2014  23.83  25.97  28.95  32.74  33.77  34.15  31.85  31.32  30.68   \n",
       "114  2015  24.58  26.89  29.07  31.87  34.09  32.48  31.88  31.52  31.55   \n",
       "115  2016  26.94  29.72  32.62  35.38  35.72  34.03  31.64  31.79  31.66   \n",
       "116  2017  26.45  29.46  31.60  34.95  35.84  33.82  31.88  31.72  32.22   \n",
       "\n",
       "       OCT    NOV    DEC  ANNUAL  JAN-FEB  MAR-MAY  JUN-SEP  OCT-DEC  \n",
       "0    29.97  27.31  24.49   28.96    23.27    31.46    31.27    27.25  \n",
       "1    29.12  26.31  24.04   29.22    25.75    31.76    31.09    26.49  \n",
       "2    29.04  26.08  23.65   28.47    24.24    30.71    30.92    26.26  \n",
       "3    29.20  26.36  23.63   28.49    23.62    30.95    30.66    26.40  \n",
       "4    30.67  27.52  23.82   28.30    22.25    30.00    31.33    26.57  \n",
       "..     ...    ...    ...     ...      ...      ...      ...      ...  \n",
       "112  30.27  27.83  25.37   29.81    25.58    32.58    31.33    27.83  \n",
       "113  30.29  28.05  25.08   29.72    24.90    31.82    32.00    27.81  \n",
       "114  31.04  28.10  25.67   29.90    25.74    31.68    31.87    28.27  \n",
       "115  31.98  30.11  28.01   31.63    28.33    34.57    32.28    30.03  \n",
       "116  32.29  29.60  27.18   31.42    27.95    34.13    32.41    29.69  \n",
       "\n",
       "[117 rows x 18 columns]"
      ]
     },
     "execution_count": 2,
     "metadata": {},
     "output_type": "execute_result"
    }
   ],
   "source": [
    "import pandas as pd\n",
    "df=pd.read_csv(\"temperatures.csv\")\n",
    "df"
   ]
  },
  {
   "cell_type": "code",
   "execution_count": 3,
   "id": "df9e90ba",
   "metadata": {},
   "outputs": [],
   "source": [
    "x=df[\"YEAR\"]\n",
    "y=df[\"ANNUAL\"]"
   ]
  },
  {
   "cell_type": "code",
   "execution_count": 4,
   "id": "13eb72cf",
   "metadata": {},
   "outputs": [
    {
     "data": {
      "text/plain": [
       "<matplotlib.collections.PathCollection at 0x13a88052d00>"
      ]
     },
     "execution_count": 4,
     "metadata": {},
     "output_type": "execute_result"
    },
    {
     "data": {
      "image/png": "[encoded data removed]",
      "text/plain": [
       "<Figure size 1152x648 with 1 Axes>"
      ]
     },
     "metadata": {
      "needs_background": "light"
     },
     "output_type": "display_data"
    }
   ],
   "source": [
    "import matplotlib.pyplot as plt\n",
    "plt.figure(figsize=(16,9))\n",
    "plt.title(\"Temperature plot of INDIA\")\n",
    "plt.xlabel(\"year\")\n",
    "plt.ylabel(\"Annual Average Temperature\")\n",
    "plt.scatter(x,y)"
   ]
  },
  {
   "cell_type": "code",
   "execution_count": 5,
   "id": "22bd29dc",
   "metadata": {},
   "outputs": [
    {
     "name": "stdout",
     "output_type": "stream",
     "text": [
      "[1901 1902 1903 1904 1905 1906 1907 1908 1909 1910 1911 1912 1913 1914\n",
      " 1915 1916 1917 1918 1919 1920 1921 1922 1923 1924 1925 1926 1927 1928\n",
      " 1929 1930 1931 1932 1933 1934 1935 1936 1937 1938 1939 1940 1941 1942\n",
      " 1943 1944 1945 1946 1947 1948 1949 1950 1951 1952 1953 1954 1955 1956\n",
      " 1957 1958 1959 1960 1961 1962 1963 1964 1965 1966 1967 1968 1969 1970\n",
      " 1971 1972 1973 1974 1975 1976 1977 1978 1979 1980 1981 1982 1983 1984\n",
      " 1985 1986 1987 1988 1989 1990 1991 1992 1993 1994 1995 1996 1997 1998\n",
      " 1999 2000 2001 2002 2003 2004 2005 2006 2007 2008 2009 2010 2011 2012\n",
      " 2013 2014 2015 2016 2017]\n"
     ]
    }
   ],
   "source": [
    "print(x.values)\n"
   ]
  },
  {
   "cell_type": "code",
   "execution_count": 6,
   "id": "11ccfb6e",
   "metadata": {},
   "outputs": [
    {
     "data": {
      "text/plain": [
       "(117,)"
      ]
     },
     "execution_count": 6,
     "metadata": {},
     "output_type": "execute_result"
    }
   ],
   "source": [
    "x.shape"
   ]
  },
  {
   "cell_type": "code",
   "execution_count": 7,
   "id": "1d9e6905",
   "metadata": {},
   "outputs": [
    {
     "data": {
      "text/plain": [
       "array([28.96, 29.22, 28.47, 28.49, 28.3 , 28.73, 28.65, 28.83, 28.38,\n",
       "       28.53, 28.62, 28.95, 28.67, 28.66, 28.94, 28.82, 28.11, 28.66,\n",
       "       28.66, 28.76, 28.86, 28.8 , 28.74, 28.8 , 28.67, 28.7 , 28.59,\n",
       "       28.98, 28.76, 28.65, 29.15, 29.09, 28.49, 29.03, 28.76, 28.71,\n",
       "       28.7 , 28.7 , 28.85, 28.88, 29.46, 28.98, 28.8 , 28.89, 28.97,\n",
       "       29.37, 28.84, 28.73, 28.89, 28.47, 29.09, 29.16, 29.43, 28.92,\n",
       "       28.76, 28.63, 28.64, 29.34, 29.02, 29.31, 28.72, 28.89, 29.04,\n",
       "       29.09, 29.16, 29.41, 29.14, 29.07, 29.61, 29.47, 29.15, 29.31,\n",
       "       29.44, 29.26, 28.89, 29.27, 29.41, 29.23, 29.63, 29.58, 29.32,\n",
       "       29.12, 29.11, 29.28, 29.61, 29.33, 29.72, 29.55, 29.18, 29.14,\n",
       "       29.32, 29.23, 29.55, 29.46, 30.18, 29.58, 29.05, 29.7 , 29.81,\n",
       "       29.75, 29.99, 30.23, 29.75, 29.79, 29.6 , 30.06, 29.84, 29.64,\n",
       "       30.3 , 30.13, 29.82, 29.81, 29.81, 29.72, 29.9 , 31.63, 31.42])"
      ]
     },
     "execution_count": 7,
     "metadata": {},
     "output_type": "execute_result"
    }
   ],
   "source": [
    "y.values"
   ]
  },
  {
   "cell_type": "code",
   "execution_count": 8,
   "id": "c7e578bc",
   "metadata": {},
   "outputs": [
    {
     "data": {
      "text/plain": [
       "(117,)"
      ]
     },
     "execution_count": 8,
     "metadata": {},
     "output_type": "execute_result"
    }
   ],
   "source": [
    "y.shape"
   ]
  },
  {
   "cell_type": "code",
   "execution_count": 9,
   "id": "06436a3b",
   "metadata": {},
   "outputs": [],
   "source": [
    "x=x.values\n",
    "x=x.reshape(117,1)\n",
    "y=y.values\n",
    "y=y.reshape(117,1)"
   ]
  },
  {
   "cell_type": "code",
   "execution_count": 10,
   "id": "201eb607",
   "metadata": {},
   "outputs": [
    {
     "data": {
      "text/plain": [
       "LinearRegression()"
      ]
     },
     "execution_count": 10,
     "metadata": {},
     "output_type": "execute_result"
    }
   ],
   "source": [
    "from sklearn.linear_model import LinearRegression\n",
    "regressor=LinearRegression()\n",
    "regressor.fit(x,y)"
   ]
  },
  {
   "cell_type": "code",
   "execution_count": 11,
   "id": "522d701d",
   "metadata": {},
   "outputs": [
    {
     "data": {
      "text/plain": [
       "array([[0.01312158]])"
      ]
     },
     "execution_count": 11,
     "metadata": {},
     "output_type": "execute_result"
    }
   ],
   "source": [
    "regressor.coef_"
   ]
  },
  {
   "cell_type": "code",
   "execution_count": 12,
   "id": "c5a124de",
   "metadata": {},
   "outputs": [
    {
     "data": {
      "text/plain": [
       "array([3.47618971])"
      ]
     },
     "execution_count": 12,
     "metadata": {},
     "output_type": "execute_result"
    }
   ],
   "source": [
    "regressor.intercept_"
   ]
  },
  {
   "cell_type": "code",
   "execution_count": 13,
   "id": "1b23e31c",
   "metadata": {},
   "outputs": [
    {
     "data": {
      "text/plain": [
       "array([[29.95554082]])"
      ]
     },
     "execution_count": 13,
     "metadata": {},
     "output_type": "execute_result"
    }
   ],
   "source": [
    "regressor.predict([[2018]])"
   ]
  },
  {
   "cell_type": "code",
   "execution_count": 14,
   "id": "e23420d8",
   "metadata": {},
   "outputs": [],
   "source": [
    "predicted=regressor.predict(x)"
   ]
  },
  {
   "cell_type": "code",
   "execution_count": 15,
   "id": "1b00bd44",
   "metadata": {},
   "outputs": [],
   "source": [
    "from sklearn.metrics import mean_absolute_error\n",
    "from sklearn.metrics import mean_squared_error\n",
    "from sklearn.metrics import r2_score"
   ]
  },
  {
   "cell_type": "code",
   "execution_count": 16,
   "id": "ed5039f8",
   "metadata": {},
   "outputs": [
    {
     "data": {
      "text/plain": [
       "0.22535284978630413"
      ]
     },
     "execution_count": 16,
     "metadata": {},
     "output_type": "execute_result"
    }
   ],
   "source": [
    "mean_absolute_error(y,predicted)"
   ]
  },
  {
   "cell_type": "code",
   "execution_count": 17,
   "id": "a22596b9",
   "metadata": {},
   "outputs": [
    {
     "data": {
      "text/plain": [
       "0.10960795229110352"
      ]
     },
     "execution_count": 17,
     "metadata": {},
     "output_type": "execute_result"
    }
   ],
   "source": [
    "mean_squared_error(y,predicted)"
   ]
  },
  {
   "cell_type": "code",
   "execution_count": 18,
   "id": "dd745962",
   "metadata": {},
   "outputs": [
    {
     "data": {
      "text/plain": [
       "0.6418078912783682"
      ]
     },
     "execution_count": 18,
     "metadata": {},
     "output_type": "execute_result"
    }
   ],
   "source": [
    "r2_score(y,predicted)     #to find out linearity in model"
   ]
  },
  {
   "cell_type": "code",
   "execution_count": 19,
   "id": "57fdb4b9",
   "metadata": {},
   "outputs": [
    {
     "data": {
      "text/plain": [
       "<matplotlib.legend.Legend at 0x13a8acdc580>"
      ]
     },
     "execution_count": 19,
     "metadata": {},
     "output_type": "execute_result"
    },
    {
     "data": {
      "image/png": "[encoded data removed]",
      "text/plain": [
       "<Figure size 1152x648 with 1 Axes>"
      ]
     },
     "metadata": {
      "needs_background": "light"
     },
     "output_type": "display_data"
    }
   ],
   "source": [
    "plt.figure(figsize=(16,9))\n",
    "plt.title(\"Temperature plot of INDIA\")\n",
    "plt.xlabel(\"year\")\n",
    "plt.ylabel(\"Annual Average Temperature\")\n",
    "plt.scatter(x,y,label=\"Actual\",color=\"r\")\n",
    "plt.plot(x,predicted,label=\"predicted\",color=\"g\")\n",
    "plt.legend()"
   ]
  }
 ],
 "metadata": {
  "kernelspec": {
   "display_name": "Python 3 (ipykernel)",
   "language": "python",
   "name": "python3"
  },
  "language_info": {
   "codemirror_mode": {
    "name": "ipython",
    "version": 3
   },
   "file_extension": ".py",
   "mimetype": "text/x-python",
   "name": "python",
   "nbconvert_exporter": "python",
   "pygments_lexer": "ipython3",
   "version": "3.9.12"
  }
 },
 "nbformat": 4,
 "nbformat_minor": 5
}
